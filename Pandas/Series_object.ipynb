{
 "cells": [
  {
   "cell_type": "code",
   "execution_count": 2,
   "id": "c1635f53",
   "metadata": {},
   "outputs": [],
   "source": [
    "import pandas as pd"
   ]
  },
  {
   "cell_type": "code",
   "execution_count": 3,
   "id": "3903d954",
   "metadata": {},
   "outputs": [
    {
     "data": {
      "text/plain": [
       "0    3\n",
       "1    2\n",
       "2    4\n",
       "3    6\n",
       "dtype: int64"
      ]
     },
     "execution_count": 3,
     "metadata": {},
     "output_type": "execute_result"
    }
   ],
   "source": [
    "# Obiekt series\n",
    "\n",
    "s = pd.Series(data=[3,2,4,6])\n",
    "s"
   ]
  },
  {
   "cell_type": "code",
   "execution_count": 4,
   "id": "2282a409",
   "metadata": {},
   "outputs": [
    {
     "data": {
      "text/plain": [
       "a    3\n",
       "b    2\n",
       "c    4\n",
       "d    6\n",
       "Name: sample, dtype: int64"
      ]
     },
     "execution_count": 4,
     "metadata": {},
     "output_type": "execute_result"
    }
   ],
   "source": [
    "# Automatycznie indexuje się od 0, natomiast możemy tym sterować\n",
    "\n",
    "s = pd.Series(data = [3,2,4,6], index=['a', 'b', 'c', 'd'], name = 'sample')\n",
    "s"
   ]
  },
  {
   "cell_type": "code",
   "execution_count": 5,
   "id": "338047f5",
   "metadata": {},
   "outputs": [
    {
     "data": {
      "text/plain": [
       "nan"
      ]
     },
     "execution_count": 5,
     "metadata": {},
     "output_type": "execute_result"
    }
   ],
   "source": [
    "# Wstawianie braków danych:\n",
    "import numpy as np\n",
    "\n",
    "np.nan"
   ]
  },
  {
   "cell_type": "code",
   "execution_count": 6,
   "id": "f43c86a2",
   "metadata": {},
   "outputs": [
    {
     "data": {
      "text/plain": [
       "a    3.0\n",
       "b    NaN\n",
       "c    4.0\n",
       "d    6.0\n",
       "Name: sample, dtype: float64"
      ]
     },
     "execution_count": 6,
     "metadata": {},
     "output_type": "execute_result"
    }
   ],
   "source": [
    "s = pd.Series(data = [3,np.nan,4,6], index=['a', 'b', 'c', 'd'], name = 'sample')\n",
    "s"
   ]
  },
  {
   "cell_type": "code",
   "execution_count": 7,
   "id": "a80a241a",
   "metadata": {},
   "outputs": [
    {
     "data": {
      "text/plain": [
       "0     True\n",
       "1    False\n",
       "2    False\n",
       "dtype: bool"
      ]
     },
     "execution_count": 7,
     "metadata": {},
     "output_type": "execute_result"
    }
   ],
   "source": [
    "s1 = pd.Series(data = [True, False, False])\n",
    "s1"
   ]
  },
  {
   "cell_type": "code",
   "execution_count": 8,
   "id": "b83b6c92",
   "metadata": {},
   "outputs": [],
   "source": [
    "# Obiekt series, który jako indexy posiada daty\n",
    "s2 = pd.Series(data = np.arange(10, 20), index = pd.date_range(start = '20200101', periods = 10))"
   ]
  },
  {
   "cell_type": "code",
   "execution_count": 9,
   "id": "05eaa25d",
   "metadata": {},
   "outputs": [
    {
     "data": {
      "text/plain": [
       "2020-01-01    10\n",
       "2020-01-02    11\n",
       "2020-01-03    12\n",
       "2020-01-04    13\n",
       "2020-01-05    14\n",
       "2020-01-06    15\n",
       "2020-01-07    16\n",
       "2020-01-08    17\n",
       "2020-01-09    18\n",
       "2020-01-10    19\n",
       "Freq: D, dtype: int32"
      ]
     },
     "execution_count": 9,
     "metadata": {},
     "output_type": "execute_result"
    }
   ],
   "source": [
    "s2"
   ]
  },
  {
   "cell_type": "code",
   "execution_count": 10,
   "id": "ff3b67bb",
   "metadata": {},
   "outputs": [
    {
     "data": {
      "text/plain": [
       "0    python\n",
       "1      java\n",
       "2       sql\n",
       "Name: languages, dtype: object"
      ]
     },
     "execution_count": 10,
     "metadata": {},
     "output_type": "execute_result"
    }
   ],
   "source": [
    "s3 = pd.Series(data=['python', 'java', 'sql'], name = 'languages')\n",
    "s3"
   ]
  },
  {
   "cell_type": "code",
   "execution_count": 11,
   "id": "170a331e",
   "metadata": {},
   "outputs": [
    {
     "data": {
      "text/plain": [
       "RangeIndex(start=0, stop=3, step=1)"
      ]
     },
     "execution_count": 11,
     "metadata": {},
     "output_type": "execute_result"
    }
   ],
   "source": [
    "# Atrybuty obiektu typu Series\n",
    "\n",
    "# Indexy\n",
    "s3.index\n"
   ]
  },
  {
   "cell_type": "code",
   "execution_count": 12,
   "id": "e234bde3",
   "metadata": {},
   "outputs": [
    {
     "data": {
      "text/plain": [
       "DatetimeIndex(['2020-01-01', '2020-01-02', '2020-01-03', '2020-01-04',\n",
       "               '2020-01-05', '2020-01-06', '2020-01-07', '2020-01-08',\n",
       "               '2020-01-09', '2020-01-10'],\n",
       "              dtype='datetime64[ns]', freq='D')"
      ]
     },
     "execution_count": 12,
     "metadata": {},
     "output_type": "execute_result"
    }
   ],
   "source": [
    "s2.index"
   ]
  },
  {
   "cell_type": "code",
   "execution_count": 13,
   "id": "ac13898c",
   "metadata": {},
   "outputs": [
    {
     "data": {
      "text/plain": [
       "array([10, 11, 12, 13, 14, 15, 16, 17, 18, 19])"
      ]
     },
     "execution_count": 13,
     "metadata": {},
     "output_type": "execute_result"
    }
   ],
   "source": [
    "# Wartości\n",
    "\n",
    "s2.values"
   ]
  },
  {
   "cell_type": "code",
   "execution_count": 14,
   "id": "b171c234",
   "metadata": {},
   "outputs": [
    {
     "data": {
      "text/plain": [
       "dtype('float64')"
      ]
     },
     "execution_count": 14,
     "metadata": {},
     "output_type": "execute_result"
    }
   ],
   "source": [
    "#Sprawdzenie typu danych\n",
    "s.dtypes"
   ]
  },
  {
   "cell_type": "code",
   "execution_count": 15,
   "id": "a368231d",
   "metadata": {},
   "outputs": [
    {
     "data": {
      "text/plain": [
       "dtype('int32')"
      ]
     },
     "execution_count": 15,
     "metadata": {},
     "output_type": "execute_result"
    }
   ],
   "source": [
    "s2.dtypes"
   ]
  },
  {
   "cell_type": "code",
   "execution_count": 16,
   "id": "b985be00",
   "metadata": {},
   "outputs": [
    {
     "data": {
      "text/plain": [
       "dtype('O')"
      ]
     },
     "execution_count": 16,
     "metadata": {},
     "output_type": "execute_result"
    }
   ],
   "source": [
    "s3.dtypes"
   ]
  },
  {
   "cell_type": "code",
   "execution_count": 17,
   "id": "3451302a",
   "metadata": {},
   "outputs": [
    {
     "data": {
      "text/plain": [
       "(10,)"
      ]
     },
     "execution_count": 17,
     "metadata": {},
     "output_type": "execute_result"
    }
   ],
   "source": [
    "#Kształt danych:\n",
    "\n",
    "s2.shape\n"
   ]
  },
  {
   "cell_type": "code",
   "execution_count": 19,
   "id": "56b25616",
   "metadata": {},
   "outputs": [
    {
     "data": {
      "text/plain": [
       "Apple          200\n",
       "CD Project      60\n",
       "Amazon        1900\n",
       "dtype: int64"
      ]
     },
     "execution_count": 19,
     "metadata": {},
     "output_type": "execute_result"
    }
   ],
   "source": [
    "# Praca z obiektem:\n",
    "\n",
    "price = pd.Series(data = {'Apple': 200, 'CD Project': 60, 'Amazon': 1900})\n",
    "price"
   ]
  },
  {
   "cell_type": "code",
   "execution_count": 23,
   "id": "51c15a24",
   "metadata": {},
   "outputs": [
    {
     "data": {
      "text/plain": [
       "200"
      ]
     },
     "execution_count": 23,
     "metadata": {},
     "output_type": "execute_result"
    }
   ],
   "source": [
    "# Wycinanie informacji z obiektu:\n",
    "\n",
    "#Po nazwie\n",
    "price['CD Project']\n",
    "price['Amazon']\n",
    "price['Apple']"
   ]
  },
  {
   "cell_type": "code",
   "execution_count": 26,
   "id": "e13873f6",
   "metadata": {},
   "outputs": [
    {
     "data": {
      "text/plain": [
       "1900"
      ]
     },
     "execution_count": 26,
     "metadata": {},
     "output_type": "execute_result"
    }
   ],
   "source": [
    "# Po numerze indexu\n",
    "price[0]\n",
    "price[1]\n",
    "price[2]"
   ]
  },
  {
   "cell_type": "code",
   "execution_count": 31,
   "id": "f775fa8f",
   "metadata": {},
   "outputs": [
    {
     "name": "stdout",
     "output_type": "stream",
     "text": [
      "3\n",
      "200     1\n",
      "60      1\n",
      "1900    1\n",
      "dtype: int64\n",
      "2160\n",
      "60\n",
      "1900\n"
     ]
    }
   ],
   "source": [
    "# Podstawowe, najważniejsze funkcje pandas do pracy z obiektem\n",
    "\n",
    "#Funkcja zliczająca elementy w obiekcie:\n",
    "print(price.count())\n",
    "\n",
    "# Funkcja zliczająca ile razy dana rzecz wystapiła w obiekcie:\n",
    "print(price.value_counts())\n",
    "\n",
    "# Funkcja sumująca wartości w obiekcie\n",
    "print(price.sum())\n",
    "\n",
    "# Funkcje znajdujące wartości maksymalne i minimalne:\n",
    "\n",
    "print(price.min())\n",
    "print(price.max())"
   ]
  },
  {
   "cell_type": "code",
   "execution_count": 32,
   "id": "e8164c69",
   "metadata": {},
   "outputs": [
    {
     "name": "stdout",
     "output_type": "stream",
     "text": [
      "count       3.000000\n",
      "mean      720.000000\n",
      "std      1024.304642\n",
      "min        60.000000\n",
      "25%       130.000000\n",
      "50%       200.000000\n",
      "75%      1050.000000\n",
      "max      1900.000000\n",
      "dtype: float64\n"
     ]
    }
   ],
   "source": [
    "# Funkcja obliczająca najważniejsze statystyki obiektu:\n",
    "print(price.describe())"
   ]
  },
  {
   "cell_type": "code",
   "execution_count": 55,
   "id": "32495c3b",
   "metadata": {},
   "outputs": [
    {
     "data": {
      "text/plain": [
       "Apple          200.0\n",
       "CD Project      60.0\n",
       "Amazon        1900.0\n",
       "Allegro          NaN\n",
       "dtype: float64"
      ]
     },
     "execution_count": 55,
     "metadata": {},
     "output_type": "execute_result"
    }
   ],
   "source": [
    "price = pd.Series(data = {'Apple': 200, 'CD Project': 60, 'Amazon': 1900, 'Allegro': np.nan})\n",
    "price"
   ]
  },
  {
   "cell_type": "code",
   "execution_count": 36,
   "id": "705e3a27",
   "metadata": {},
   "outputs": [
    {
     "data": {
      "text/plain": [
       "200.0     1\n",
       "60.0      1\n",
       "1900.0    1\n",
       "NaN       1\n",
       "dtype: int64"
      ]
     },
     "execution_count": 36,
     "metadata": {},
     "output_type": "execute_result"
    }
   ],
   "source": [
    "# W przypadku braku danych, funkcja value_counts autmatycznie omija braki, natomiast można\n",
    "# ustawić, aby zliczała\n",
    "\n",
    "price.value_counts(dropna = False)"
   ]
  },
  {
   "cell_type": "code",
   "execution_count": 37,
   "id": "98607ed2",
   "metadata": {},
   "outputs": [
    {
     "data": {
      "text/plain": [
       "Amazon    1900.0\n",
       "dtype: float64"
      ]
     },
     "execution_count": 37,
     "metadata": {},
     "output_type": "execute_result"
    }
   ],
   "source": [
    "# W przypadku jeżeli potrzebujemy wyciągnąć największy element z obiektu, lub kilka najlepszych\n",
    "# Możemy użyć nlargest\n",
    "\n",
    "price.nlargest(1)"
   ]
  },
  {
   "cell_type": "code",
   "execution_count": 39,
   "id": "7553960f",
   "metadata": {},
   "outputs": [
    {
     "data": {
      "text/plain": [
       "CD Project    60.0\n",
       "dtype: float64"
      ]
     },
     "execution_count": 39,
     "metadata": {},
     "output_type": "execute_result"
    }
   ],
   "source": [
    "# Funkcja przeciwna do nlagrest - nsmallest\n",
    "\n",
    "price.nsmallest(1)"
   ]
  },
  {
   "cell_type": "code",
   "execution_count": 53,
   "id": "c9603600",
   "metadata": {},
   "outputs": [
    {
     "data": {
      "text/plain": [
       "Apple         2.0\n",
       "CD Project    1.0\n",
       "Amazon        3.0\n",
       "Allegro       4.0\n",
       "dtype: float64"
      ]
     },
     "execution_count": 53,
     "metadata": {},
     "output_type": "execute_result"
    }
   ],
   "source": [
    "# Możemy sprawdzić rangking w obiekcie\n",
    "\n",
    "price.rank()"
   ]
  },
  {
   "cell_type": "code",
   "execution_count": 41,
   "id": "5c26b0c7",
   "metadata": {},
   "outputs": [
    {
     "data": {
      "text/plain": [
       "CD Project      60.0\n",
       "Apple          200.0\n",
       "Amazon        1900.0\n",
       "Allegro          NaN\n",
       "dtype: float64"
      ]
     },
     "execution_count": 41,
     "metadata": {},
     "output_type": "execute_result"
    }
   ],
   "source": [
    "# Sortowanie wartości:\n",
    "price.sort_values()"
   ]
  },
  {
   "cell_type": "code",
   "execution_count": 43,
   "id": "e8465276",
   "metadata": {},
   "outputs": [
    {
     "data": {
      "text/plain": [
       "Amazon        1900.0\n",
       "Apple          200.0\n",
       "CD Project      60.0\n",
       "Allegro          NaN\n",
       "dtype: float64"
      ]
     },
     "execution_count": 43,
     "metadata": {},
     "output_type": "execute_result"
    }
   ],
   "source": [
    "# Domyślne sortowanie jest od najmniejszej do największej wartości, możemy zmienić\n",
    "\n",
    "price.sort_values(ascending = False)"
   ]
  },
  {
   "cell_type": "code",
   "execution_count": 67,
   "id": "2c4c3cce",
   "metadata": {},
   "outputs": [
    {
     "data": {
      "text/plain": [
       "Apple          18225.0\n",
       "CD Project      5467.5\n",
       "Amazon        173137.5\n",
       "Allegro            NaN\n",
       "dtype: float64"
      ]
     },
     "execution_count": 67,
     "metadata": {},
     "output_type": "execute_result"
    }
   ],
   "source": [
    "# jeżeli chcemy zmienić coś w danych, możemy uzyć metody apply() na obiekcie. Metoda przyjmuje \n",
    "#Za parametr funkcje \n",
    "\n",
    "# Konwertujemy ceny spółek na złotówki\n",
    "def swap_to_pln(x):\n",
    "    return x * 4.5\n",
    "price_pln = price.apply(swap_to_pln)\n",
    "price_pln"
   ]
  },
  {
   "cell_type": "code",
   "execution_count": null,
   "id": "5442b1c3",
   "metadata": {},
   "outputs": [],
   "source": []
  }
 ],
 "metadata": {
  "kernelspec": {
   "display_name": "Python 3 (ipykernel)",
   "language": "python",
   "name": "python3"
  },
  "language_info": {
   "codemirror_mode": {
    "name": "ipython",
    "version": 3
   },
   "file_extension": ".py",
   "mimetype": "text/x-python",
   "name": "python",
   "nbconvert_exporter": "python",
   "pygments_lexer": "ipython3",
   "version": "3.9.13"
  }
 },
 "nbformat": 4,
 "nbformat_minor": 5
}
